{
  "nbformat": 4,
  "nbformat_minor": 0,
  "metadata": {
    "colab": {
      "provenance": [],
      "gpuType": "T4"
    },
    "kernelspec": {
      "name": "python3",
      "display_name": "Python 3"
    },
    "language_info": {
      "name": "python"
    },
    "accelerator": "GPU"
  },
  "cells": [
    {
      "cell_type": "code",
      "execution_count": null,
      "metadata": {
        "id": "srZkHjQmeTi3"
      },
      "outputs": [],
      "source": [
        "!mkdir -p ~/.kaggle\n",
        "!cp kaggle.json ~/.kaggle/"
      ]
    },
    {
      "cell_type": "code",
      "source": [
        "# Download the dataset\n",
        "! kaggle datasets download -d salader/dogs-vs-cats"
      ],
      "metadata": {
        "colab": {
          "base_uri": "https://localhost:8080/"
        },
        "id": "xO9294LDnywQ",
        "outputId": "a2473a92-5f85-4124-9407-ef7d49daaf3d"
      },
      "execution_count": null,
      "outputs": [
        {
          "output_type": "stream",
          "name": "stdout",
          "text": [
            "Warning: Your Kaggle API key is readable by other users on this system! To fix this, you can run 'chmod 600 /root/.kaggle/kaggle.json'\n",
            "Downloading dogs-vs-cats.zip to /content\n",
            "100% 1.06G/1.06G [00:52<00:00, 24.4MB/s]\n",
            "100% 1.06G/1.06G [00:52<00:00, 21.8MB/s]\n"
          ]
        }
      ]
    },
    {
      "cell_type": "code",
      "source": [
        "import zipfile\n",
        "zip_ref = zipfile.ZipFile('/content/dogs-vs-cats.zip', 'r')\n",
        "zip_ref.extractall('/content')\n",
        "zip_ref.close()"
      ],
      "metadata": {
        "id": "YsW268DMeVWZ"
      },
      "execution_count": null,
      "outputs": []
    },
    {
      "cell_type": "code",
      "source": [
        "import tensorflow as tf\n",
        "from tensorflow import keras\n",
        "from keras import Sequential\n",
        "from keras.layers import Dense, Conv2D, MaxPooling2D, Flatten, BatchNormalization, Dropout\n",
        "import matplotlib.pyplot as plt"
      ],
      "metadata": {
        "id": "f82zmaJAeVi_"
      },
      "execution_count": null,
      "outputs": []
    },
    {
      "cell_type": "code",
      "source": [
        "train_ds=keras.utils.image_dataset_from_directory(\n",
        "    directory='/content/train',\n",
        "    labels='inferred',\n",
        "    label_mode='int',\n",
        "    batch_size=32,\n",
        "    image_size=(256,256)\n",
        ")\n",
        "\n",
        "validation_ds=keras.utils.image_dataset_from_directory(\n",
        "    directory='/content/test',\n",
        "    labels='inferred',\n",
        "    label_mode='int',\n",
        "    batch_size=32,\n",
        "    image_size=(256,256)\n",
        ")"
      ],
      "metadata": {
        "colab": {
          "base_uri": "https://localhost:8080/"
        },
        "id": "dsSutPn7eVk4",
        "outputId": "9c22a3d8-114d-46f6-8346-c864e828ccd0"
      },
      "execution_count": null,
      "outputs": [
        {
          "output_type": "stream",
          "name": "stdout",
          "text": [
            "Found 20000 files belonging to 2 classes.\n",
            "Found 5000 files belonging to 2 classes.\n"
          ]
        }
      ]
    },
    {
      "cell_type": "code",
      "source": [
        "def process(image,label):\n",
        "  image=tf.cast(image/255,tf.float32)\n",
        "  return image, label\n",
        "\n",
        "train_ds = train_ds.map(process)\n",
        "validation_ds = validation_ds.map(process)"
      ],
      "metadata": {
        "id": "76aEdZLPeVn6"
      },
      "execution_count": null,
      "outputs": []
    },
    {
      "cell_type": "code",
      "source": [
        "#CNN_model\n",
        "model=Sequential()\n",
        "\n",
        "model.add(Conv2D(32,kernel_size=(3,3),activation='relu',input_shape=(256,256,3)))\n",
        "model.add(MaxPooling2D(pool_size=(2,2),strides=2))\n",
        "\n",
        "model.add(Conv2D(64,kernel_size=(3,3),activation='relu'))\n",
        "model.add(MaxPooling2D(pool_size=(2,2),strides=2))\n",
        "\n",
        "model.add(Conv2D(128,kernel_size=(3,3),activation='relu'))\n",
        "model.add(MaxPooling2D(pool_size=(2,2),strides=3))\n",
        "\n",
        "model.add(Flatten())\n",
        "\n",
        "model.add(Dense(128,activation='relu'))\n",
        "model.add(Dense(64,activation='relu'))\n",
        "model.add(Dense(1,activation='sigmoid'))"
      ],
      "metadata": {
        "id": "zXe6SPDWeVqz"
      },
      "execution_count": null,
      "outputs": []
    },
    {
      "cell_type": "code",
      "source": [
        "model.summary()"
      ],
      "metadata": {
        "colab": {
          "base_uri": "https://localhost:8080/"
        },
        "id": "0zZZ6JwIDmIn",
        "outputId": "32d6a138-8cd9-4750-b65e-cc6f92fe53c5"
      },
      "execution_count": null,
      "outputs": [
        {
          "output_type": "stream",
          "name": "stdout",
          "text": [
            "Model: \"sequential\"\n",
            "_________________________________________________________________\n",
            " Layer (type)                Output Shape              Param #   \n",
            "=================================================================\n",
            " conv2d (Conv2D)             (None, 254, 254, 32)      896       \n",
            "                                                                 \n",
            " max_pooling2d (MaxPooling2  (None, 127, 127, 32)      0         \n",
            " D)                                                              \n",
            "                                                                 \n",
            " conv2d_1 (Conv2D)           (None, 125, 125, 64)      18496     \n",
            "                                                                 \n",
            " max_pooling2d_1 (MaxPoolin  (None, 62, 62, 64)        0         \n",
            " g2D)                                                            \n",
            "                                                                 \n",
            " conv2d_2 (Conv2D)           (None, 60, 60, 128)       73856     \n",
            "                                                                 \n",
            " max_pooling2d_2 (MaxPoolin  (None, 20, 20, 128)       0         \n",
            " g2D)                                                            \n",
            "                                                                 \n",
            " flatten (Flatten)           (None, 51200)             0         \n",
            "                                                                 \n",
            " dense (Dense)               (None, 128)               6553728   \n",
            "                                                                 \n",
            " dense_1 (Dense)             (None, 64)                8256      \n",
            "                                                                 \n",
            " dense_2 (Dense)             (None, 1)                 65        \n",
            "                                                                 \n",
            "=================================================================\n",
            "Total params: 6655297 (25.39 MB)\n",
            "Trainable params: 6655297 (25.39 MB)\n",
            "Non-trainable params: 0 (0.00 Byte)\n",
            "_________________________________________________________________\n"
          ]
        }
      ]
    },
    {
      "cell_type": "code",
      "source": [
        "model.compile(optimizer='adam',loss='binary_crossentropy',metrics=['accuracy'])"
      ],
      "metadata": {
        "id": "md-GTsHYD34h"
      },
      "execution_count": null,
      "outputs": []
    },
    {
      "cell_type": "code",
      "source": [
        "history=model.fit(train_ds,epochs=10,validation_data=validation_ds)"
      ],
      "metadata": {
        "colab": {
          "base_uri": "https://localhost:8080/"
        },
        "id": "QyNVMzfZEWa4",
        "outputId": "9d09162f-f593-48ff-a69e-5eb4403e7e34"
      },
      "execution_count": null,
      "outputs": [
        {
          "output_type": "stream",
          "name": "stdout",
          "text": [
            "Epoch 1/10\n",
            "625/625 [==============================] - 67s 87ms/step - loss: 0.5840 - accuracy: 0.6805 - val_loss: 0.5095 - val_accuracy: 0.7592\n",
            "Epoch 2/10\n",
            "625/625 [==============================] - 56s 89ms/step - loss: 0.4514 - accuracy: 0.7824 - val_loss: 0.4933 - val_accuracy: 0.7762\n",
            "Epoch 3/10\n",
            "625/625 [==============================] - 52s 82ms/step - loss: 0.3454 - accuracy: 0.8455 - val_loss: 0.5355 - val_accuracy: 0.7810\n",
            "Epoch 4/10\n",
            "625/625 [==============================] - 52s 82ms/step - loss: 0.2208 - accuracy: 0.9083 - val_loss: 0.7617 - val_accuracy: 0.7864\n",
            "Epoch 5/10\n",
            "625/625 [==============================] - 52s 83ms/step - loss: 0.1304 - accuracy: 0.9503 - val_loss: 0.9104 - val_accuracy: 0.7886\n",
            "Epoch 6/10\n",
            "625/625 [==============================] - 52s 83ms/step - loss: 0.0786 - accuracy: 0.9701 - val_loss: 0.9726 - val_accuracy: 0.7742\n",
            "Epoch 7/10\n",
            "625/625 [==============================] - 52s 83ms/step - loss: 0.0674 - accuracy: 0.9767 - val_loss: 1.1490 - val_accuracy: 0.7834\n",
            "Epoch 8/10\n",
            "625/625 [==============================] - 51s 82ms/step - loss: 0.0517 - accuracy: 0.9833 - val_loss: 1.3342 - val_accuracy: 0.7810\n",
            "Epoch 9/10\n",
            "625/625 [==============================] - 55s 87ms/step - loss: 0.0416 - accuracy: 0.9857 - val_loss: 1.2648 - val_accuracy: 0.7838\n",
            "Epoch 10/10\n",
            "625/625 [==============================] - 53s 84ms/step - loss: 0.0360 - accuracy: 0.9876 - val_loss: 1.3780 - val_accuracy: 0.7854\n"
          ]
        }
      ]
    },
    {
      "cell_type": "code",
      "source": [
        "plt.plot(history.history['accuracy'],color='red',label='train')\n",
        "plt.plot(history.history['val_accuracy'],color='blue',label='validation')\n",
        "plt.legend()\n",
        "plt.show()"
      ],
      "metadata": {
        "colab": {
          "base_uri": "https://localhost:8080/",
          "height": 432
        },
        "id": "svlOFJusnEBe",
        "outputId": "32bd888a-ce1b-4a15-d8b7-6e8076751762"
      },
      "execution_count": null,
      "outputs": [
        {
          "output_type": "display_data",
          "data": {
            "text/plain": [
              "<Figure size 640x480 with 1 Axes>"
            ],
            "image/png": "[encoded data removed]"
          },
          "metadata": {}
        }
      ]
    },
    {
      "cell_type": "code",
      "source": [],
      "metadata": {
        "id": "dMLYOag9nEMb"
      },
      "execution_count": null,
      "outputs": []
    },
    {
      "cell_type": "code",
      "source": [
        "# without activation\n",
        "model = Sequential()\n",
        "\n",
        "model.add(Conv2D(64,kernel_size=(3,3),padding=\"same\",input_shape=(256,256,3)))\n",
        "model.add(MaxPooling2D(pool_size=(2,2),strides=2))\n",
        "\n",
        "model.add(Conv2D(128,kernel_size=(3,3),padding=\"same\",input_shape=(256,256,3)))\n",
        "model.add(MaxPooling2D(pool_size=(2,2),strides=2))\n",
        "\n",
        "model.add(Flatten())\n",
        "\n",
        "model.add(Dense(128,activation='relu'))\n",
        "model.add(Dense(256,activation='relu'))\n",
        "model.add(Dense(1,activation='sigmoid'))"
      ],
      "metadata": {
        "id": "bKw9OOQvEmua"
      },
      "execution_count": null,
      "outputs": []
    },
    {
      "cell_type": "code",
      "source": [
        "model.summary()"
      ],
      "metadata": {
        "colab": {
          "base_uri": "https://localhost:8080/"
        },
        "id": "45Pwn2qRoUxx",
        "outputId": "e5ed2e46-c8b9-41f8-9e3c-fa8df2254f88"
      },
      "execution_count": null,
      "outputs": [
        {
          "output_type": "stream",
          "name": "stdout",
          "text": [
            "Model: \"sequential_2\"\n",
            "_________________________________________________________________\n",
            " Layer (type)                Output Shape              Param #   \n",
            "=================================================================\n",
            " conv2d_3 (Conv2D)           (None, 256, 256, 64)      1792      \n",
            "                                                                 \n",
            " max_pooling2d_3 (MaxPoolin  (None, 128, 128, 64)      0         \n",
            " g2D)                                                            \n",
            "                                                                 \n",
            " conv2d_4 (Conv2D)           (None, 128, 128, 128)     73856     \n",
            "                                                                 \n",
            " max_pooling2d_4 (MaxPoolin  (None, 64, 64, 128)       0         \n",
            " g2D)                                                            \n",
            "                                                                 \n",
            " flatten_1 (Flatten)         (None, 524288)            0         \n",
            "                                                                 \n",
            " dense_3 (Dense)             (None, 128)               67108992  \n",
            "                                                                 \n",
            " dense_4 (Dense)             (None, 256)               33024     \n",
            "                                                                 \n",
            " dense_5 (Dense)             (None, 1)                 257       \n",
            "                                                                 \n",
            "=================================================================\n",
            "Total params: 67217921 (256.42 MB)\n",
            "Trainable params: 67217921 (256.42 MB)\n",
            "Non-trainable params: 0 (0.00 Byte)\n",
            "_________________________________________________________________\n"
          ]
        }
      ]
    },
    {
      "cell_type": "code",
      "source": [
        "model.compile(optimizer='adam',loss='binary_crossentropy',metrics=['accuracy'])"
      ],
      "metadata": {
        "id": "VDzTmYIWoctf"
      },
      "execution_count": null,
      "outputs": []
    },
    {
      "cell_type": "code",
      "source": [
        "history=model.fit(train_ds,epochs=10,validation_data=validation_ds)"
      ],
      "metadata": {
        "colab": {
          "base_uri": "https://localhost:8080/"
        },
        "id": "2ltd4dDIo2FX",
        "outputId": "63a15af4-c30c-46c1-cfc3-dd52b9fbf992"
      },
      "execution_count": null,
      "outputs": [
        {
          "output_type": "stream",
          "name": "stdout",
          "text": [
            "Epoch 1/10\n",
            "625/625 [==============================] - 85s 130ms/step - loss: 0.8293 - accuracy: 0.6030 - val_loss: 0.5985 - val_accuracy: 0.6664\n",
            "Epoch 2/10\n",
            "625/625 [==============================] - 81s 130ms/step - loss: 0.6258 - accuracy: 0.6488 - val_loss: 0.6647 - val_accuracy: 0.6052\n",
            "Epoch 3/10\n",
            "625/625 [==============================] - 82s 131ms/step - loss: 13.5472 - accuracy: 0.5195 - val_loss: 0.7003 - val_accuracy: 0.5004\n",
            "Epoch 4/10\n",
            "625/625 [==============================] - 82s 131ms/step - loss: 0.6943 - accuracy: 0.4945 - val_loss: 0.6928 - val_accuracy: 0.5002\n",
            "Epoch 5/10\n",
            "625/625 [==============================] - 80s 127ms/step - loss: 0.6932 - accuracy: 0.4994 - val_loss: 0.6927 - val_accuracy: 0.5002\n",
            "Epoch 6/10\n",
            "625/625 [==============================] - 82s 130ms/step - loss: 0.6931 - accuracy: 0.4968 - val_loss: 0.6928 - val_accuracy: 0.5002\n",
            "Epoch 7/10\n",
            "625/625 [==============================] - 82s 130ms/step - loss: 0.6931 - accuracy: 0.4985 - val_loss: 0.6927 - val_accuracy: 0.5004\n",
            "Epoch 8/10\n",
            "625/625 [==============================] - 80s 127ms/step - loss: 0.6931 - accuracy: 0.4960 - val_loss: 0.6931 - val_accuracy: 0.5000\n",
            "Epoch 9/10\n",
            "625/625 [==============================] - 79s 126ms/step - loss: 0.6932 - accuracy: 0.4979 - val_loss: 0.6931 - val_accuracy: 0.5000\n",
            "Epoch 10/10\n",
            "625/625 [==============================] - 80s 128ms/step - loss: 0.6932 - accuracy: 0.4958 - val_loss: 0.6930 - val_accuracy: 0.5004\n"
          ]
        }
      ]
    },
    {
      "cell_type": "code",
      "source": [
        "#CNN_model\n",
        "model=Sequential()\n",
        "\n",
        "model.add(Conv2D(64,kernel_size=(3,3),activation='relu',input_shape=(256,256,3)))\n",
        "model.add(MaxPooling2D(pool_size=(2,2),strides=2))\n",
        "\n",
        "model.add(Conv2D(128,kernel_size=(3,3),activation='relu'))\n",
        "model.add(MaxPooling2D(pool_size=(2,2),strides=2))\n",
        "\n",
        "model.add(Conv2D(256,kernel_size=(3,3),activation='relu'))\n",
        "model.add(MaxPooling2D(pool_size=(2,2),strides=3))\n",
        "\n",
        "model.add(Flatten())\n",
        "\n",
        "model.add(Dense(128,activation='relu'))\n",
        "model.add(Dense(128,activation='relu'))\n",
        "model.add(Dense(1,activation='sigmoid'))"
      ],
      "metadata": {
        "id": "e-RT8SFfpOpr"
      },
      "execution_count": null,
      "outputs": []
    },
    {
      "cell_type": "code",
      "source": [
        "model.compile(optimizer='adam',loss='binary_crossentropy',metrics=['accuracy'])"
      ],
      "metadata": {
        "id": "Mz5MglIDsJ3h"
      },
      "execution_count": null,
      "outputs": []
    },
    {
      "cell_type": "code",
      "source": [
        "model.summary()"
      ],
      "metadata": {
        "colab": {
          "base_uri": "https://localhost:8080/"
        },
        "id": "aMwufO3ns5RD",
        "outputId": "7abc371e-211a-4ea5-f577-b1a0abc47149"
      },
      "execution_count": null,
      "outputs": [
        {
          "output_type": "stream",
          "name": "stdout",
          "text": [
            "Model: \"sequential_3\"\n",
            "_________________________________________________________________\n",
            " Layer (type)                Output Shape              Param #   \n",
            "=================================================================\n",
            " conv2d_5 (Conv2D)           (None, 254, 254, 64)      1792      \n",
            "                                                                 \n",
            " max_pooling2d_5 (MaxPoolin  (None, 127, 127, 64)      0         \n",
            " g2D)                                                            \n",
            "                                                                 \n",
            " conv2d_6 (Conv2D)           (None, 125, 125, 128)     73856     \n",
            "                                                                 \n",
            " max_pooling2d_6 (MaxPoolin  (None, 62, 62, 128)       0         \n",
            " g2D)                                                            \n",
            "                                                                 \n",
            " conv2d_7 (Conv2D)           (None, 60, 60, 256)       295168    \n",
            "                                                                 \n",
            " max_pooling2d_7 (MaxPoolin  (None, 20, 20, 256)       0         \n",
            " g2D)                                                            \n",
            "                                                                 \n",
            " flatten_2 (Flatten)         (None, 102400)            0         \n",
            "                                                                 \n",
            " dense_6 (Dense)             (None, 128)               13107328  \n",
            "                                                                 \n",
            " dense_7 (Dense)             (None, 128)               16512     \n",
            "                                                                 \n",
            " dense_8 (Dense)             (None, 1)                 129       \n",
            "                                                                 \n",
            "=================================================================\n",
            "Total params: 13494785 (51.48 MB)\n",
            "Trainable params: 13494785 (51.48 MB)\n",
            "Non-trainable params: 0 (0.00 Byte)\n",
            "_________________________________________________________________\n"
          ]
        }
      ]
    },
    {
      "cell_type": "code",
      "source": [
        "history=model.fit(train_ds,epochs=10,validation_data=validation_ds)"
      ],
      "metadata": {
        "colab": {
          "base_uri": "https://localhost:8080/"
        },
        "id": "N_Av7-8osKAW",
        "outputId": "5d8cbf76-06cf-48f1-fa0a-028812e1fe93"
      },
      "execution_count": null,
      "outputs": [
        {
          "output_type": "stream",
          "name": "stdout",
          "text": [
            "Epoch 1/10\n",
            "625/625 [==============================] - 94s 143ms/step - loss: 0.6847 - accuracy: 0.5659 - val_loss: 0.6358 - val_accuracy: 0.6264\n",
            "Epoch 2/10\n",
            "625/625 [==============================] - 87s 139ms/step - loss: 0.5996 - accuracy: 0.6724 - val_loss: 0.5357 - val_accuracy: 0.7348\n",
            "Epoch 3/10\n",
            "625/625 [==============================] - 89s 142ms/step - loss: 0.4888 - accuracy: 0.7620 - val_loss: 0.4918 - val_accuracy: 0.7612\n",
            "Epoch 4/10\n",
            "625/625 [==============================] - 87s 139ms/step - loss: 0.4047 - accuracy: 0.8181 - val_loss: 0.4790 - val_accuracy: 0.7828\n",
            "Epoch 5/10\n",
            "625/625 [==============================] - 87s 139ms/step - loss: 0.3143 - accuracy: 0.8644 - val_loss: 0.5344 - val_accuracy: 0.7846\n",
            "Epoch 6/10\n",
            "625/625 [==============================] - 87s 139ms/step - loss: 0.2070 - accuracy: 0.9151 - val_loss: 0.8000 - val_accuracy: 0.7788\n",
            "Epoch 7/10\n",
            "625/625 [==============================] - 86s 137ms/step - loss: 0.1276 - accuracy: 0.9520 - val_loss: 0.9923 - val_accuracy: 0.7684\n",
            "Epoch 8/10\n",
            "625/625 [==============================] - 88s 140ms/step - loss: 0.0816 - accuracy: 0.9690 - val_loss: 1.0837 - val_accuracy: 0.7760\n",
            "Epoch 9/10\n",
            "625/625 [==============================] - 88s 140ms/step - loss: 0.0682 - accuracy: 0.9758 - val_loss: 1.1466 - val_accuracy: 0.7694\n",
            "Epoch 10/10\n",
            "625/625 [==============================] - 88s 140ms/step - loss: 0.0563 - accuracy: 0.9804 - val_loss: 1.1875 - val_accuracy: 0.7738\n"
          ]
        }
      ]
    },
    {
      "cell_type": "code",
      "source": [
        "plt.plot(history.history['accuracy'],color='red',label='train')\n",
        "plt.plot(history.history['val_accuracy'],color='blue',label='validation')\n",
        "plt.legend()\n",
        "plt.show()"
      ],
      "metadata": {
        "colab": {
          "base_uri": "https://localhost:8080/",
          "height": 434
        },
        "id": "3_d4BQ2osKKT",
        "outputId": "d9990e1d-af84-41d8-e390-ce97269a9e75"
      },
      "execution_count": null,
      "outputs": [
        {
          "output_type": "display_data",
          "data": {
            "text/plain": [
              "<Figure size 640x480 with 1 Axes>"
            ],
            "image/png": "[encoded data removed]"
          },
          "metadata": {}
        }
      ]
    },
    {
      "cell_type": "code",
      "source": [
        "#CNN_model\n",
        "model=Sequential()\n",
        "\n",
        "model.add(Conv2D(64,kernel_size=(3,3),activation='relu',input_shape=(256,256,3)))\n",
        "model.add(BatchNormalization())\n",
        "model.add(MaxPooling2D(pool_size=(2,2),strides=2))\n",
        "\n",
        "model.add(Conv2D(128,kernel_size=(3,3),activation='relu'))\n",
        "model.add(BatchNormalization())\n",
        "model.add(MaxPooling2D(pool_size=(2,2),strides=2))\n",
        "\n",
        "model.add(Conv2D(256,kernel_size=(3,3),activation='relu'))\n",
        "model.add(BatchNormalization())\n",
        "model.add(MaxPooling2D(pool_size=(2,2),strides=3))\n",
        "\n",
        "model.add(Flatten())\n",
        "\n",
        "model.add(Dense(128,activation='relu'))\n",
        "model.add(BatchNormalization())\n",
        "model.add(Dropout(0.4))\n",
        "model.add(Dense(128,activation='relu'))\n",
        "model.add(BatchNormalization())\n",
        "model.add(Dropout(0.4))\n",
        "model.add(Dense(1,activation='sigmoid'))"
      ],
      "metadata": {
        "id": "loAVEqUe4H1b"
      },
      "execution_count": null,
      "outputs": []
    },
    {
      "cell_type": "code",
      "source": [
        "model.compile(optimizer='adam',loss='binary_crossentropy',metrics=['accuracy'])"
      ],
      "metadata": {
        "id": "8T6EfPO_4Teb"
      },
      "execution_count": null,
      "outputs": []
    },
    {
      "cell_type": "code",
      "source": [
        "history=model.fit(train_ds,epochs=10,validation_data=validation_ds)"
      ],
      "metadata": {
        "colab": {
          "base_uri": "https://localhost:8080/"
        },
        "id": "6H8K7LvC4Tn-",
        "outputId": "a7b296c1-195b-4e61-b2cc-e197b26c5ac7"
      },
      "execution_count": null,
      "outputs": [
        {
          "output_type": "stream",
          "name": "stdout",
          "text": [
            "Epoch 1/10\n",
            "625/625 [==============================] - 127s 194ms/step - loss: 0.6827 - accuracy: 0.6342 - val_loss: 0.6637 - val_accuracy: 0.6176\n",
            "Epoch 2/10\n",
            "625/625 [==============================] - 124s 197ms/step - loss: 0.5132 - accuracy: 0.7480 - val_loss: 0.5406 - val_accuracy: 0.7298\n",
            "Epoch 3/10\n",
            "625/625 [==============================] - 122s 194ms/step - loss: 0.4209 - accuracy: 0.8075 - val_loss: 0.4503 - val_accuracy: 0.7960\n",
            "Epoch 4/10\n",
            "625/625 [==============================] - 121s 193ms/step - loss: 0.3512 - accuracy: 0.8479 - val_loss: 0.6116 - val_accuracy: 0.7364\n",
            "Epoch 5/10\n",
            "625/625 [==============================] - 123s 196ms/step - loss: 0.2686 - accuracy: 0.8896 - val_loss: 0.4985 - val_accuracy: 0.7852\n",
            "Epoch 6/10\n",
            "625/625 [==============================] - 123s 196ms/step - loss: 0.1956 - accuracy: 0.9207 - val_loss: 0.4538 - val_accuracy: 0.8160\n",
            "Epoch 7/10\n",
            "625/625 [==============================] - 120s 192ms/step - loss: 0.1443 - accuracy: 0.9439 - val_loss: 0.5209 - val_accuracy: 0.8180\n",
            "Epoch 8/10\n",
            "625/625 [==============================] - 123s 196ms/step - loss: 0.1326 - accuracy: 0.9469 - val_loss: 0.4155 - val_accuracy: 0.8410\n",
            "Epoch 9/10\n",
            "625/625 [==============================] - 122s 195ms/step - loss: 0.0896 - accuracy: 0.9661 - val_loss: 0.6032 - val_accuracy: 0.8142\n",
            "Epoch 10/10\n",
            "625/625 [==============================] - 123s 196ms/step - loss: 0.0742 - accuracy: 0.9725 - val_loss: 0.4845 - val_accuracy: 0.8512\n"
          ]
        }
      ]
    },
    {
      "cell_type": "code",
      "source": [
        "plt.plot(history.history['accuracy'],color='red',label='train')\n",
        "plt.plot(history.history['val_accuracy'],color='blue',label='validation')\n",
        "plt.legend()\n",
        "plt.show()"
      ],
      "metadata": {
        "colab": {
          "base_uri": "https://localhost:8080/",
          "height": 430
        },
        "id": "5fY0TopJ4Tyt",
        "outputId": "be2d5db8-9a78-4ded-93d3-d1786b60acb9"
      },
      "execution_count": null,
      "outputs": [
        {
          "output_type": "display_data",
          "data": {
            "text/plain": [
              "<Figure size 640x480 with 1 Axes>"
            ],
            "image/png": "[encoded data removed]"
          },
          "metadata": {}
        }
      ]
    },
    {
      "cell_type": "code",
      "source": [],
      "metadata": {
        "id": "l9FtVIuw_IPt"
      },
      "execution_count": null,
      "outputs": []
    },
    {
      "cell_type": "code",
      "source": [],
      "metadata": {
        "id": "Z1YJ9t3B_Mty"
      },
      "execution_count": null,
      "outputs": []
    },
    {
      "cell_type": "code",
      "source": [],
      "metadata": {
        "id": "TYs_KT8x_M5L"
      },
      "execution_count": null,
      "outputs": []
    }
  ]
}